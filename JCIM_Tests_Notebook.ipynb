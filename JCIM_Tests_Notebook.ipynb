{
 "metadata": {
  "kernelspec": {
   "display_name": "Python 2",
   "language": "python",
   "name": "python2"
  },
  "name": "",
  "signature": "sha256:75f427a5b6aee479987e1ed281fd11de3f1e5a750c13ea3c711fdaead75bcfaf"
 },
 "nbformat": 3,
 "nbformat_minor": 0,
 "worksheets": [
  {
   "cells": [
    {
     "cell_type": "code",
     "collapsed": false,
     "input": [
      "from hro3D import *"
     ],
     "language": "python",
     "metadata": {},
     "outputs": [],
     "prompt_number": 1
    },
    {
     "cell_type": "code",
     "collapsed": false,
     "input": [
      "from astropy.convolution import Gaussian2DKernel\n",
      "import numpy as np"
     ],
     "language": "python",
     "metadata": {},
     "outputs": [],
     "prompt_number": 2
    },
    {
     "cell_type": "code",
     "collapsed": false,
     "input": [
      "from astropy.convolution import Gaussian2DKernel\n",
      "\n",
      "g2D  = Gaussian2DKernel(10)\n",
      "sz   = np.shape(g2D)\n",
      "dens = np.dstack([g2D]*sz[0])\n",
      "\n",
      "grad = np.gradient(dens, edge_order=2)\n",
      "\n",
      "#Bx=grad[1]\n",
      "#By=grad[0]\n",
      "#Bz=grad[2]\n",
      "\n",
      "Bx = np.random.uniform(low=-1., high=1., size=np.shape(dens))\n",
      "By = np.random.uniform(low=-1., high=1., size=np.shape(dens))\n",
      "\n",
      "#Bz=np.random.uniform(low=-1., high=1., size=np.shape(dens))\n",
      "#Bx=0.*dens\n",
      "#By=0.*dens\n",
      "\n",
      "Bz = 0.*dens"
     ],
     "language": "python",
     "metadata": {},
     "outputs": [],
     "prompt_number": 39
    },
    {
     "cell_type": "code",
     "collapsed": false,
     "input": [
      "hros, cdens, zeta = hro3D(dens, Bx, By, Bz, mind=np.mean(dens))"
     ],
     "language": "python",
     "metadata": {},
     "outputs": [],
     "prompt_number": 40
    },
    {
     "cell_type": "code",
     "collapsed": false,
     "input": [
      "import numpy as np\n",
      "dens = np.zeros((80, 80, 80))\n",
      "\n",
      "for kk in range(np.shape(dens)[0]):\n",
      "    dens[kk,:,:] = 10.0* (kk+1) / np.shape(dens)[2]\n",
      "    \n",
      "Bx, By, Bz = np.zeros_like(dens), np.zeros_like(dens), np.zeros_like(dens)\n",
      "\n",
      "Bx[:,:,:] = 1.0\n",
      "By[:,:,:] = 0.0\n",
      "Bz[:,:,:] = 0.0\n",
      "\n",
      "hros, cdens, zeta = hro3D(dens, Bx, By, Bz, mind=np.mean(dens))"
     ],
     "language": "python",
     "metadata": {},
     "outputs": [],
     "prompt_number": 5
    }
   ],
   "metadata": {}
  }
 ]
}